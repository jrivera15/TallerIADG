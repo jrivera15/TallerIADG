{
  "cells": [
    {
      "cell_type": "markdown",
      "metadata": {
        "id": "view-in-github",
        "colab_type": "text"
      },
      "source": [
        "<a href=\"https://colab.research.google.com/github/jrivera15/TallerIADG/blob/main/practicas/Pr%C3%A1ctica4.ipynb\" target=\"_parent\"><img src=\"https://colab.research.google.com/assets/colab-badge.svg\" alt=\"Open In Colab\"/></a>"
      ]
    },
    {
      "cell_type": "markdown",
      "metadata": {
        "id": "HST1sQ7jSfHk"
      },
      "source": [
        "# <center>🌍 Introducción al análisis de datos geoespaciales con QGIS y Python</center>\n",
        "\n",
        "### <center>**Práctica 4:**</center>\n",
        "\n",
        "### <center>Explorar desigualdades espaciales en la ciudad de Hermosillo, Sonora con Python</center>  \n",
        "<center>\n",
        "María Janneth Rivera Reyna<br>\n",
        "Universidad de Sonora<br>\n",
        "AI-Linkup 2025, Octubre 2025<br>\n",
        "</center>  \n",
        "<br>\n",
        "\n",
        "Objetivo:\n",
        "Aprender sobre algunas operaciones básicas de geoprocesamiento, visualización de datos en mapas coropléticos, y algunos principios de diseño cartográfico mientras hacemos un análisis de desigualdades espaciales en la ciudad de Hermosillo, Sonora.\n",
        "\n"
      ]
    },
    {
      "cell_type": "markdown",
      "source": [
        "## Instalación de librerías"
      ],
      "metadata": {
        "id": "EgZt21_pchHN"
      }
    },
    {
      "cell_type": "code",
      "execution_count": null,
      "metadata": {
        "id": "AW_0FqHESfHl"
      },
      "outputs": [],
      "source": [
        "!pip install geopandas mapclassify"
      ]
    },
    {
      "cell_type": "markdown",
      "source": [
        "## Importando librerías"
      ],
      "metadata": {
        "id": "Zn4H2Jux81KE"
      }
    },
    {
      "cell_type": "code",
      "source": [
        "import geopandas as gpd\n",
        "import pandas as pd\n",
        "import zipfile\n",
        "import os\n",
        "import folium\n",
        "\n",
        "# Mostrar todas las columnas df\n",
        "pd.set_option('display.max_columns', None)"
      ],
      "metadata": {
        "id": "6C7liP0Z87bx"
      },
      "execution_count": 32,
      "outputs": []
    },
    {
      "cell_type": "markdown",
      "source": [
        "## Descargando archivos de carpeta compartida en Google Drive\n"
      ],
      "metadata": {
        "id": "AUky2U3kydiw"
      }
    },
    {
      "cell_type": "code",
      "source": [
        "!gdown --folder 1iED07-5ocrMRfWnLWP4AlvW8RLgbS0cd"
      ],
      "metadata": {
        "id": "_owcMpRi_Rr7"
      },
      "execution_count": null,
      "outputs": []
    },
    {
      "cell_type": "markdown",
      "source": [
        "### Cargando las capas vectoriales"
      ],
      "metadata": {
        "id": "aBPx5L54C-eu"
      }
    },
    {
      "cell_type": "markdown",
      "source": [
        "### Capa: polígonos de colonias a nivel nacional con el Índice de marginación urbana 2020"
      ],
      "metadata": {
        "id": "ByTyjUnOGpnq"
      }
    },
    {
      "cell_type": "code",
      "execution_count": null,
      "metadata": {
        "id": "hTFfPFb0SfHm"
      },
      "outputs": [],
      "source": [
        "# Cargando datos\n",
        "imc2020 = gpd.read_file(\"/content/datos/colonias_imc2020.shp\")\n",
        "\n",
        "print(imc2020.shape)\n",
        "imc2020.head()"
      ]
    },
    {
      "cell_type": "code",
      "source": [
        "# Revisar el CRS\n",
        "imc2020.crs"
      ],
      "metadata": {
        "id": "ydUK752mr5Lu"
      },
      "execution_count": null,
      "outputs": []
    },
    {
      "cell_type": "code",
      "source": [
        "# Visualización rápida\n",
        "imc2020.plot()"
      ],
      "metadata": {
        "id": "VPoEa8I1jOkZ"
      },
      "execution_count": null,
      "outputs": []
    },
    {
      "cell_type": "markdown",
      "source": [
        "### Capa: polígono municipio Hermosillo"
      ],
      "metadata": {
        "id": "wG9PqtT_IIjp"
      }
    },
    {
      "cell_type": "code",
      "source": [
        "# Cargando datos\n",
        "hmo_mun = gpd.read_file(\"/content/datos/26mun.shp\")\n",
        "\n",
        "print(hmo_mun.shape)\n",
        "hmo_mun.head()"
      ],
      "metadata": {
        "id": "zWRCujAXGoyd"
      },
      "execution_count": null,
      "outputs": []
    },
    {
      "cell_type": "code",
      "source": [
        "# Revisando CRS\n",
        "hmo_mun.crs"
      ],
      "metadata": {
        "id": "yVKQbFVnsCo9"
      },
      "execution_count": null,
      "outputs": []
    },
    {
      "cell_type": "code",
      "source": [
        "# Visualización rápida\n",
        "hmo_mun.plot()"
      ],
      "metadata": {
        "id": "YLGHcbysjSZZ"
      },
      "execution_count": null,
      "outputs": []
    },
    {
      "cell_type": "markdown",
      "source": [
        "### Capa: puntos hospitales Hermosillo"
      ],
      "metadata": {
        "id": "QFFrxaPjfwnw"
      }
    },
    {
      "cell_type": "code",
      "source": [
        "# Cargando datos\n",
        "hospitales = gpd.read_file(\"/content/datos/INEGI_DENUE_09102025.shp\")\n",
        "\n",
        "print(hospitales.shape)\n",
        "hospitales.head()"
      ],
      "metadata": {
        "id": "j27Yg1K3ec5c"
      },
      "execution_count": null,
      "outputs": []
    },
    {
      "cell_type": "code",
      "source": [
        "# Revisando CRS\n",
        "hospitales.crs"
      ],
      "metadata": {
        "id": "nL31lGGqf6mx"
      },
      "execution_count": null,
      "outputs": []
    },
    {
      "cell_type": "code",
      "source": [
        "# Visualización rápida\n",
        "hospitales.plot()"
      ],
      "metadata": {
        "id": "6njhNlr3f_zp"
      },
      "execution_count": null,
      "outputs": []
    },
    {
      "cell_type": "markdown",
      "source": [
        "## Reproyectar CRS"
      ],
      "metadata": {
        "id": "-Z36LpV9JiNK"
      }
    },
    {
      "cell_type": "code",
      "source": [
        "# Definir sistema de coordenadas de referencia\n",
        "crs_4326 = \"EPSG:4326\" # WGS84 lat/lon\n",
        "#crs_6372 = \"EPSG:6372\" # MexicoITRF2008/LCC (INEGI) proyectado en metros\n",
        "#crs_32612 = \"EPSG:32612\" # UTM Zona 12N proyectado en metros\n",
        "\n",
        "# Reproyectar al mismo sistema de coordenadas\n",
        "imc2020_proy = imc2020.to_crs(crs_4326)\n",
        "hmo_mun_proy = hmo_mun.to_crs(crs_4326)\n",
        "hospitales_proy = hospitales.to_crs(crs_4326)"
      ],
      "metadata": {
        "id": "-5WsAYCQK-fY"
      },
      "execution_count": 43,
      "outputs": []
    },
    {
      "cell_type": "markdown",
      "source": [
        "## Corregir geometrías\n",
        "\n",
        "El método <code>buffer(0)</code> corrige errores menores en las geometrías como auto-intersecciones leves, una línea rota, polígonos con agujeros, etc. Para corregir errores más severos existen otros métodos."
      ],
      "metadata": {
        "id": "KrJZ-JQkfahC"
      }
    },
    {
      "cell_type": "code",
      "source": [
        "# Corregir geometrías inválidas\n",
        "imc2020_proy[\"geometry\"] = imc2020_proy[\"geometry\"].buffer(0)\n",
        "hmo_mun_proy[\"geometry\"] = hmo_mun_proy[\"geometry\"].buffer(0)\n",
        "#hospitales_proy[\"geometry\"] = hospitales_proy[\"geometry\"].buffer(0)"
      ],
      "metadata": {
        "id": "uYX6JRcdfZ-B"
      },
      "execution_count": 44,
      "outputs": []
    },
    {
      "cell_type": "markdown",
      "source": [
        "## Cortar método 1: usando límites de un polígono (Clip)"
      ],
      "metadata": {
        "id": "5Hs0aYC5MbQ7"
      }
    },
    {
      "cell_type": "markdown",
      "source": [
        "Vamos a recortar la capa de polígonos de colonias, para quedarnos sólo con las que forman parte del municipio de Hermosillo:"
      ],
      "metadata": {
        "id": "vZ43I16GiQBr"
      }
    },
    {
      "cell_type": "code",
      "source": [
        "# Recortar el GeoDataFrame\n",
        "mun_imc2020 = imc2020_proy.clip(hmo_mun_proy)\n",
        "print(mun_imc2020.shape)\n",
        "\n",
        "# Visualizar el resultado\n",
        "mun_imc2020.plot()"
      ],
      "metadata": {
        "collapsed": true,
        "id": "fNoaWu8oN3nV"
      },
      "execution_count": null,
      "outputs": []
    },
    {
      "cell_type": "markdown",
      "source": [
        "## Cortar método 2: filtrando por atributos"
      ],
      "metadata": {
        "id": "yU3jw2XTCdSI"
      }
    },
    {
      "cell_type": "markdown",
      "source": [
        "En python podemos hacerlo como filtramos un dataframe :"
      ],
      "metadata": {
        "id": "4qbgaxDnAFQq"
      }
    },
    {
      "cell_type": "code",
      "source": [
        "# Filtrar por NOM_MUN para quedarnos sólo con el municipio de Hermosillo (incluye Miguel Alemán, Bahía de Kino y San Pedro El Saucito)\n",
        "# También podemos filtrar por NOM_LOC y quedarnos sólo con la localidad de Hermosillo\n",
        "#hmo_imc2020 = imc2020_proy[imc2020_proy['NOM_MUN'] == 'Hermosillo']\n",
        "hmo_imc2020 = imc2020_proy[imc2020_proy['NOM_LOC'] == 'Hermosillo']\n",
        "print(hmo_imc2020.shape)\n",
        "\n",
        "# Visualizar el resultado\n",
        "hmo_imc2020.plot()"
      ],
      "metadata": {
        "id": "KcNtFxHrCyO3"
      },
      "execution_count": null,
      "outputs": []
    },
    {
      "cell_type": "markdown",
      "source": [
        "Hacemos el filtro también para la capa de hospitales:"
      ],
      "metadata": {
        "id": "Rxqaf1PtqlJf"
      }
    },
    {
      "cell_type": "code",
      "source": [
        "# Filtrar por 'municipio' para quedarnos sólo con el municipio de Hermosillo (incluye Miguel Alemán, Bahía de Kino y San Pedro El Saucito)\n",
        "# También podemos filtrar por 'localidad' y quedarnos sólo con la localidad de Hermosillo\n",
        "#hmo_hospitales = hospitales_proy[hospitales_proy['municipio'] == 'Hermosillo']\n",
        "hmo_hospitales = hospitales[hospitales['localidad'] == 'Hermosillo']\n",
        "print(hmo_hospitales.shape)\n",
        "\n",
        "# Visualizar el resultado\n",
        "hmo_hospitales.plot()"
      ],
      "metadata": {
        "id": "6nsETMVJi7Wy"
      },
      "execution_count": null,
      "outputs": []
    },
    {
      "cell_type": "markdown",
      "source": [
        "## Visualizar mapa coroplético (matplotib)"
      ],
      "metadata": {
        "id": "yCUCMYzKEOno"
      }
    },
    {
      "cell_type": "markdown",
      "source": [
        "Con Matplotlib podemos crear un mapa coroplético básico:"
      ],
      "metadata": {
        "id": "C8caitmYAcRm"
      }
    },
    {
      "cell_type": "code",
      "source": [
        "# Definir el orden correcto de los grados de marginación\n",
        "orden_marginacion = [\"Muy bajo\", \"Bajo\", \"Medio\", \"Alto\", \"Muy alto\"]\n",
        "\n",
        "# Convertir la columna a tipo categórico con ese orden\n",
        "hmo_imc2020[\"GM_2020\"] = pd.Categorical(\n",
        "    hmo_imc2020[\"GM_2020\"],\n",
        "    categories=orden_marginacion,\n",
        "    ordered=True\n",
        ")\n",
        "\n",
        "# Mapa coroplético con matplotlib\n",
        "hmo_imc2020.plot(column='GM_2020',\n",
        "                 cmap='OrRd',\n",
        "                 legend=True,\n",
        "                 categorical = True,\n",
        "                 figsize=(8, 6),\n",
        "                 )\n"
      ],
      "metadata": {
        "id": "kFfFuraZCaPv"
      },
      "execution_count": null,
      "outputs": []
    },
    {
      "cell_type": "markdown",
      "source": [
        "##  Unión espacial: Marginación y Hospitales (contar hospitales por colonia)"
      ],
      "metadata": {
        "id": "qsQlffIYHp0N"
      }
    },
    {
      "cell_type": "markdown",
      "source": [
        "Primero, vamos a hacer **join espacial**, donde uniremos nuestras dos capas: la de polígonos de colonias y la puntos de hospitales:"
      ],
      "metadata": {
        "id": "3_FCogzgeHcy"
      }
    },
    {
      "cell_type": "code",
      "source": [
        "# Join espacial\n",
        "union_col_hosp = gpd.sjoin(\n",
        "    hmo_imc2020,\n",
        "    hospitales_proy,\n",
        "    how=\"left\",      # mantiene todas las colonias\n",
        "    predicate=\"intersects\"  # colonias que contienen hospitales\n",
        ")\n",
        "\n",
        "print(union_col_hosp.shape)\n",
        "union_col_hosp.head()"
      ],
      "metadata": {
        "id": "yl_ssCHwpwsV"
      },
      "execution_count": null,
      "outputs": []
    },
    {
      "cell_type": "markdown",
      "source": [
        "Ahora haremos el conteo de hospitales por colonia:"
      ],
      "metadata": {
        "id": "ij_cRR7ShNCQ"
      }
    },
    {
      "cell_type": "code",
      "source": [
        "# Agrupamos por colonia, haciendo el conteo de número de hospitales\n",
        "conteo = union_col_hosp.groupby(['COLONIA']).size().reset_index(name='num_hospitales')\n",
        "print(conteo.shape)\n",
        "conteo.head()"
      ],
      "metadata": {
        "id": "WhqxuDqtqN2t"
      },
      "execution_count": null,
      "outputs": []
    },
    {
      "cell_type": "code",
      "source": [
        "conteo['num_hospitales'].max()"
      ],
      "metadata": {
        "id": "1FhB3anuMTXK"
      },
      "execution_count": null,
      "outputs": []
    },
    {
      "cell_type": "markdown",
      "source": [
        "Finalmente, unimos el resultado del conteo con las colonias:"
      ],
      "metadata": {
        "id": "LSh9JIs-hbH8"
      }
    },
    {
      "cell_type": "code",
      "source": [
        "# Unimos el resultado del conteo con las colonias\n",
        "union_col_hosp = hmo_imc2020.merge(conteo, on='COLONIA', how='left')\n",
        "\n",
        "# Si hay resultados nulos imputamos con 0\n",
        "union_col_hosp['num_hospitales'] = union_col_hosp['num_hospitales'].fillna(0)\n",
        "\n",
        "print(union_col_hosp.shape)\n",
        "union_col_hosp.head()"
      ],
      "metadata": {
        "id": "oXgmfUAyqUPU"
      },
      "execution_count": null,
      "outputs": []
    },
    {
      "cell_type": "code",
      "source": [
        "union_col_hosp['num_hospitales'].max()"
      ],
      "metadata": {
        "id": "hdnRnAuKLa8y"
      },
      "execution_count": null,
      "outputs": []
    },
    {
      "cell_type": "markdown",
      "source": [
        "## Visualizamos el mapa coroplético con Matplotlib"
      ],
      "metadata": {
        "id": "PDyRn_5EFX95"
      }
    },
    {
      "cell_type": "code",
      "source": [
        "# Mapa coroplético\n",
        "union_col_hosp.plot(column='num_hospitales',\n",
        "                 cmap='Blues',\n",
        "                 legend=True,\n",
        "                 figsize=(8, 6),\n",
        "                 )\n"
      ],
      "metadata": {
        "id": "wPQ6hJi3FXpL"
      },
      "execution_count": null,
      "outputs": []
    },
    {
      "cell_type": "markdown",
      "source": [
        "## Visualizar mapa coroplético con Folium"
      ],
      "metadata": {
        "id": "VtzzRIUFodxw"
      }
    },
    {
      "cell_type": "markdown",
      "source": [
        "![image.png](data:image/png;base64,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)"
      ],
      "metadata": {
        "id": "PcO-PoBxAszd"
      }
    },
    {
      "cell_type": "markdown",
      "source": [
        "<code>Folium</code> nos permite crear mapas interactivos y más personalizados, ya que podemos manipular los datos en Python, personalizar el diseño con código HTML y la cereza del pastel: visualizar los mapas en la web, a través de  <code>Leafleat.js</code>, una librería Javascript."
      ],
      "metadata": {
        "id": "hogZdWqBDlrm"
      }
    },
    {
      "cell_type": "code",
      "source": [
        "mapa_imc = folium.Map(location=[29.072, -110.955],\n",
        "               zoom_start=11,\n",
        "               tiles='CartoDB positron',\n",
        "               )\n",
        "\n",
        "# Crear geojson\n",
        "coropletico_imc = folium.Choropleth(\n",
        "    geo_data=union_col_hosp,   # gdf que contiene las geometrías.\n",
        "    data=union_col_hosp,       # gdf que contiene los atributos\n",
        "    columns=[\"COLONIA\", \"IMN_2020\"], # Ahora usamos el índice de marginación normalizado (numérico)\n",
        "    key_on=\"feature.properties.COLONIA\", # Link geometrías por COLONIA\n",
        "    fill_color=\"OrRd_r\",\n",
        "    fill_opacity=0.6,\n",
        "    line_opacity=0.5,\n",
        "    legend_name=\"Índice de marginación (numérico)\",\n",
        ").add_to(mapa_imc)\n",
        "\n",
        "# Tootlips\n",
        "folium.GeoJsonTooltip(\n",
        "    fields=[\"COLONIA\", \"GM_2020\", \"IMN_2020\"],\n",
        "    aliases=[\"Colonia:\", \"Grado Marginación:\", \"Índice Marginación:\"],\n",
        "    localize=True\n",
        ").add_to(coropletico_imc.geojson)\n",
        "\n",
        "mapa_imc"
      ],
      "metadata": {
        "id": "PLBQ9fwIaUBq"
      },
      "execution_count": null,
      "outputs": []
    },
    {
      "cell_type": "code",
      "source": [
        "# Creamos el mapa\n",
        "mapa_hospitales = folium.Map(location=[29.072, -110.955],\n",
        "               zoom_start=11,\n",
        "               tiles='CartoDB positron',\n",
        "               )\n",
        "\n",
        "# Convertir a GeoJSON\n",
        "coropletico_hospitales = folium.Choropleth(\n",
        "    geo_data=union_col_hosp,   # gdf que contiene las geometrías. Folium convierte internamente a GeoJSON.\n",
        "    data=union_col_hosp,       # gdf que contiene los atributos\n",
        "    columns=[\"COLONIA\", \"num_hospitales\"], # columnas clave/valor\n",
        "    key_on=\"feature.properties.COLONIA\", # propiedad del GeoJSON que contiene la clave (COLONIA)\n",
        "    fill_color=\"Blues\",\n",
        "    fill_opacity=0.7,\n",
        "    line_opacity=0.5,\n",
        "    tooltip=folium.GeoJsonTooltip(fields=['COLONIA', 'num_hospitales']),\n",
        "    legend_name=\"Número de hospitales por colonia\",\n",
        ").add_to(mapa_hospitales)\n",
        "\n",
        "# Creamos tooltips\n",
        "folium.GeoJsonTooltip(\n",
        "    fields=[\"COLONIA\", \"num_hospitales\"],\n",
        "    aliases=[\"Colonia:\", \"Núm. Hospitales:\"],\n",
        ").add_to(coropletico_hospitales.geojson)\n",
        "\n",
        "mapa_hospitales"
      ],
      "metadata": {
        "id": "37SZtOiZrPbz"
      },
      "execution_count": null,
      "outputs": []
    },
    {
      "cell_type": "code",
      "source": [
        "# Creamos el mapa\n",
        "mapa_imc_hosp = folium.Map(location=[29.072, -110.955],\n",
        "               zoom_start=11,\n",
        "               tiles='CartoDB positron',\n",
        "               )\n",
        "\n",
        "# Creamos geojson\n",
        "coropletico_imc = folium.Choropleth(\n",
        "    geo_data=union_col_hosp,   # gdf que contiene las geometrías.\n",
        "    data=union_col_hosp,       # gdf que contiene los atributos\n",
        "    columns=[\"COLONIA\", \"IMN_2020\"], # Ahora usamos el índice de marginación normalizado (numérico)\n",
        "    key_on=\"feature.properties.COLONIA\", # Link geometrías por COLONIA\n",
        "    fill_color=\"OrRd_r\",\n",
        "    fill_opacity=0.6,\n",
        "    line_opacity=0.5,\n",
        "    legend_name=\"Índice de marginación (numérico)\",\n",
        ").add_to(mapa_imc_hosp)\n",
        "\n",
        "# Tootlips\n",
        "folium.GeoJsonTooltip(\n",
        "    fields=[\"COLONIA\", \"GM_2020\", \"IMN_2020\", \"num_hospitales\"],\n",
        "    aliases=[\"Colonia:\", \"Grado Marginación:\", \"IMN_2020:\", \"Núm. Hospitales:\"],\n",
        "    localize=True\n",
        ").add_to(coropletico_imc.geojson)\n",
        "\n",
        "\n",
        "# Añadir puntos al mapa (hospitales)\n",
        "for _, row in union_col_hosp.iterrows():\n",
        "    geom = row.geometry\n",
        "    punto = geom.centroid  # obtener el centroide del polígono de colonia\n",
        "\n",
        "    folium.CircleMarker(\n",
        "        location=[punto.y, punto.x],\n",
        "        radius=row[\"num_hospitales\"],\n",
        "        color=\"#4651E8\",\n",
        "        opacity=0.7,\n",
        "        fill=True,\n",
        "        fill_color=\"#4651E8\",\n",
        "        fill_opacity=0.7,\n",
        "        popup=f\"<br>Número de hospitales: {row['num_hospitales']}\"\n",
        "    ).add_to(mapa_imc_hosp)\n",
        "\n",
        "mapa_imc_hosp\n"
      ],
      "metadata": {
        "id": "78KqSG4JxoZk"
      },
      "execution_count": null,
      "outputs": []
    },
    {
      "cell_type": "markdown",
      "source": [
        "#### Exportar mapas"
      ],
      "metadata": {
        "id": "61fypcFaP54o"
      }
    },
    {
      "cell_type": "code",
      "source": [
        "# Guardar como HTML\n",
        "mapa_imc_hosp.save('mapa_imc_hosp.html')"
      ],
      "metadata": {
        "id": "3epthXRVP5n5"
      },
      "execution_count": 58,
      "outputs": []
    },
    {
      "cell_type": "markdown",
      "source": [
        "## Análisis\n",
        "**1.¿Qué zonas presentan mayor marginación?:** observa el mapa coroplético e identifica los polígonos clasificados como Muy alto o Alto.\n",
        "\n",
        "**2.¿Coinciden con las periferias o con zonas céntricas?:** compara la localización espacial (usa mapa base: OpenStreetMap) y anota si las áreas marginadas están en la periferia, fragmentadas, cercanas a ríos/zonas de riesgo, etc.\n",
        "\n",
        "**3.¿A simple vista, ves algún otro patrón?** comenta con tus compañeros."
      ],
      "metadata": {
        "id": "VnbQ0XglwXBX"
      }
    },
    {
      "cell_type": "markdown",
      "source": [
        "## Tarea 4"
      ],
      "metadata": {
        "id": "kno9ejLsws4J"
      }
    },
    {
      "cell_type": "markdown",
      "source": [
        "1. Repite la práctica, pero ahora con el municipio de Tuxtla Gutiérrez, Chiapas. (Encuentra el polígono de este municipio en Google drive \"mun_tuxtla.shp\").\n",
        "2. Realiza también la parte del análisis y redacta tus conclusiones.\n",
        "3. Omite toda la parte de los hospitales, ya que ese dataset sólo contiene datos de Hermosillo.\n",
        "4. Crea tu mapa final con Folium."
      ],
      "metadata": {
        "id": "ARBVQgiNXij9"
      }
    },
    {
      "cell_type": "code",
      "source": [],
      "metadata": {
        "id": "9-rffwQZXnKn"
      },
      "execution_count": null,
      "outputs": []
    }
  ],
  "metadata": {
    "colab": {
      "provenance": [],
      "include_colab_link": true
    },
    "kernelspec": {
      "display_name": "Python 3",
      "language": "python",
      "name": "python3"
    },
    "language_info": {
      "name": "python"
    }
  },
  "nbformat": 4,
  "nbformat_minor": 0
}
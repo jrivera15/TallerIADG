{
  "cells": [
    {
      "cell_type": "markdown",
      "metadata": {
        "id": "view-in-github",
        "colab_type": "text"
      },
      "source": [
        "<a href=\"https://colab.research.google.com/github/jrivera15/TallerIADG/blob/main/practicas/Pr%C3%A1ctica3.ipynb\" target=\"_parent\"><img src=\"https://colab.research.google.com/assets/colab-badge.svg\" alt=\"Open In Colab\"/></a>"
      ]
    },
    {
      "cell_type": "markdown",
      "metadata": {
        "id": "HST1sQ7jSfHk"
      },
      "source": [
        "# <center>🌍 Introducción al análisis de datos geoespaciales con QGIS y Python</center>\n",
        "\n",
        "### <center>**Práctica 3:**</center>\n",
        "\n",
        "### <center>Crear puntos, líneas, polígonos en Python</center>  \n",
        "<center>\n",
        "María Janneth Rivera Reyna<br>\n",
        "Universidad de Sonora<br>\n",
        "AI-Linkup 2025, Octubre 2025<br>\n",
        "</center>  \n",
        "<br>\n",
        "\n",
        "Objetivo:\n",
        "Crear datos vectoriales digitales dibujando geometrías en Python y agregando atributos (Digitalizar), familiarizarse con algunas librerías de manejo de datos geoespaciales y explorar algunas de sus herramientas. Finalmente, visualizar los datos y exportar a archivos que contengan estos datos geoespaciales.\n",
        "\n"
      ]
    },
    {
      "cell_type": "markdown",
      "source": [
        "## Instalación de librerías\n",
        "\n",
        "Geopandas tiene varias dependecias a otras librerías, tales como:\n",
        "pandas, numpy, shapely, entre otras.\n",
        "\n",
        "Nota: Si quieres correr local y usas un gestor de librerías como Anaconda/Miniconda puedes instalar con:\n",
        "<code>conda install geopandas</code>"
      ],
      "metadata": {
        "id": "EgZt21_pchHN"
      }
    },
    {
      "cell_type": "code",
      "execution_count": null,
      "metadata": {
        "id": "AW_0FqHESfHl"
      },
      "outputs": [],
      "source": [
        "!pip install geopandas mapclassify"
      ]
    },
    {
      "cell_type": "markdown",
      "source": [
        "## Importando librerías"
      ],
      "metadata": {
        "id": "1Ls2-WuGILMl"
      }
    },
    {
      "cell_type": "code",
      "source": [
        "import geopandas as gpd\n",
        "from shapely.geometry import Point, LineString, Polygon\n",
        "import matplotlib.pyplot as plt"
      ],
      "metadata": {
        "id": "gE0vL_QQIN-W"
      },
      "execution_count": null,
      "outputs": []
    },
    {
      "cell_type": "markdown",
      "source": [
        "## Creando geometrías: puntos, líneas, polígonos\n",
        "\n",
        "Una forma de crear geometrías con <code>Shapely</code>, es definiéndolas a través de coordenadas geográficas, como lo son la *latitud y longitud*.<br><br>\n",
        "\n",
        "Puedes utilizar herramientas como **Google Maps** o **Google Earth** para ayudarte a obtener las coordenadas de lugares en específico que te sirvan para crear las geometrías.<br><br>\n",
        "\n",
        "\n",
        "###<center>Point(x, y) --> donde x=longitud, y=latitud</center><br><br>\n",
        "\n",
        "Esto es porque <code>Shapely</code> sigue la convención cartesiana (x, y), donde la longitud (este-oeste) corresponde al eje de las X, y la latitud (norte-sur) corresponde al eje de las Y. <code>Geopandas</code> y muchos otros formatos GIS utilizan esta convención para mantener compatibilidad entre sistemas."
      ],
      "metadata": {
        "id": "ppco4IxacpxR"
      }
    },
    {
      "cell_type": "markdown",
      "source": [
        "#### Creando un punto"
      ],
      "metadata": {
        "id": "vUWxl5uy86k4"
      }
    },
    {
      "cell_type": "code",
      "execution_count": null,
      "metadata": {
        "id": "ado7cWYESfHm"
      },
      "outputs": [],
      "source": [
        "# Crear un punto: Unison Rectoría\n",
        "punto = Point(-110.96030979779613, 29.083597383593112)"
      ]
    },
    {
      "cell_type": "markdown",
      "source": [
        "#### Creando una línea"
      ],
      "metadata": {
        "id": "TZnvWxD-_y00"
      }
    },
    {
      "cell_type": "code",
      "source": [
        "# Crear una línea: ruta Rectoría -> Salida Colosio\n",
        "linea = LineString([(-110.96096839209038, 29.083392391885077),\n",
        "                    (-110.96090523921285, 29.08291933254036),\n",
        "                    (-110.96205101284805, 29.08273799254891),\n",
        "                    (-110.9616630737432, 29.080498811565406)])"
      ],
      "metadata": {
        "id": "WyOEp4Am_zLk"
      },
      "execution_count": null,
      "outputs": []
    },
    {
      "cell_type": "markdown",
      "source": [
        "#### Creando un polígono"
      ],
      "metadata": {
        "id": "ZL0fH-JrBRm-"
      }
    },
    {
      "cell_type": "code",
      "source": [
        "# Crear un polígono: área verde Emiliana de Zubeldía\n",
        "poligono = Polygon([(-110.95975208843697, 29.084144286407092),\n",
        "                    (-110.95954725475629, 29.083066932612304),\n",
        "                    (-110.9587696454129, 29.083143176482118),\n",
        "                    (-110.95890240798371, 29.083892352375223)])"
      ],
      "metadata": {
        "id": "sj-YvUNcBWpk"
      },
      "execution_count": null,
      "outputs": []
    },
    {
      "cell_type": "markdown",
      "source": [
        "#### Creando GeoPandas Dataframe"
      ],
      "metadata": {
        "id": "HPl89PyXEd8C"
      }
    },
    {
      "cell_type": "code",
      "source": [
        "# Guardarlos en un GeoDataFrame\n",
        "gdf = gpd.GeoDataFrame({'tipo': ['punto','linea','poligono'],\n",
        "                        'nombre': ['Rectoría','Salida Colosio','Emiliana de Zubeldía'],\n",
        "                        'geometry':[punto,linea,poligono]},\n",
        "                        crs=\"EPSG:4326\")  # WGS84 geográfico\n",
        "gdf"
      ],
      "metadata": {
        "id": "uClXgd4MEZ7J"
      },
      "execution_count": null,
      "outputs": []
    },
    {
      "cell_type": "markdown",
      "source": [
        "### Exportando archivos\n",
        "\n",
        "Los **SHP** files aceptan sólo un tipo de geometría, y representan una única capa vectorial, por lo tanto para este ejercicio se deberán guardar en archivos separados.\n",
        "\n",
        "**GeoPackage** es un formato más moderno, el cual soporta múltiples capas dentro del mismo archivo y cada capa puede tener un tipo de geometría diferente."
      ],
      "metadata": {
        "id": "gEc_Co_vhIst"
      }
    },
    {
      "cell_type": "code",
      "execution_count": null,
      "metadata": {
        "id": "PYjGlZNNSfHn"
      },
      "outputs": [],
      "source": [
        "# Exportar a SHP files (separados por tipo de geometría)\n",
        "gdf[gdf.geometry.type == 'Point'].to_file(\"puntos_unison.shp\")\n",
        "gdf[gdf.geometry.type == 'LineString'].to_file(\"lineas_unison.shp\")\n",
        "gdf[gdf.geometry.type == 'Polygon'].to_file(\"poligonos_unison.shp\")\n",
        "\n",
        "# Exportar a CSV\n",
        "gdf.to_csv(\"geometrias_python.csv\", index=False)\n",
        "\n",
        "# Exportar a Geopackage\n",
        "gdf.to_file(\"geometrias_python.gpkg\", layer='geometrias', driver=\"GPKG\")\n"
      ]
    },
    {
      "cell_type": "markdown",
      "source": [
        "## Explorando algunas funcionalidades"
      ],
      "metadata": {
        "id": "D_32Th7iiQ9T"
      }
    },
    {
      "cell_type": "markdown",
      "source": [
        "<code>Geopandas</code> puede crear mapas interactivos basados en <code>Folium</code>: una librería basada en Javascript para crear mapas interactivos a partir de datos geoespaciales.\n",
        "\n",
        "El método <code>explore()</code> nos regresa un objeto <code>folium.Map</code>, que nos permite rápidamente visualizar el mapa:"
      ],
      "metadata": {
        "id": "2BfNPqsfn8_6"
      }
    },
    {
      "cell_type": "code",
      "source": [
        "gdf.explore()"
      ],
      "metadata": {
        "id": "XveAzQ5LnX3R"
      },
      "execution_count": null,
      "outputs": []
    },
    {
      "cell_type": "markdown",
      "source": [
        "### Centroides y límites\n",
        "<code>Geopandas</code> trae incorporadas varios atributos y métodos que nos permiten realizar algunos cálculos rápidamente:"
      ],
      "metadata": {
        "id": "bbrilKo5hv6B"
      }
    },
    {
      "cell_type": "code",
      "source": [
        "# Obtener centroides\n",
        "gdf['centroide'] = gdf.centroid\n",
        "\n",
        "# Obtener límites\n",
        "gdf['limites'] = gdf.boundary\n",
        "\n",
        "gdf\n"
      ],
      "metadata": {
        "id": "LQI08DAViTUY"
      },
      "execution_count": null,
      "outputs": []
    },
    {
      "cell_type": "markdown",
      "source": [
        "Vamos a graficar los centroides y límites:"
      ],
      "metadata": {
        "id": "ueQf8RJQkjsE"
      }
    },
    {
      "cell_type": "code",
      "source": [
        "# Graficar con matplotlib\n",
        "ax = gdf[\"geometry\"].plot(figsize=(10, 6), edgecolor=\"black\") # límites\n",
        "gdf[\"centroide\"].plot(ax=ax, color=\"red\", markersize=20)      # centroides\n",
        "plt.title(\"Centroides y límites de las geometrías\")\n",
        "plt.show()"
      ],
      "metadata": {
        "id": "G1trsVX9laYg"
      },
      "execution_count": null,
      "outputs": []
    },
    {
      "cell_type": "markdown",
      "source": [
        "### Distancia y área\n",
        "Otra funcionalidad interesante es la de calcular distancias y áreas.\n",
        "\n",
        "Para las distancias, vamos a definir un punto de referencia, en este caso *Rectoría*:"
      ],
      "metadata": {
        "id": "1p58If4OZofn"
      }
    },
    {
      "cell_type": "code",
      "source": [
        "rectoria = gdf['geometry'][0]"
      ],
      "metadata": {
        "id": "jXcNSsLbeur-"
      },
      "execution_count": null,
      "outputs": []
    },
    {
      "cell_type": "markdown",
      "source": [
        "Ahora, vamos a calcular el área de cada geometría en el GDF así como la distancia al punto de referencia (Rectoría).\n"
      ],
      "metadata": {
        "id": "MAcfuy9pZx9J"
      }
    },
    {
      "cell_type": "code",
      "source": [
        "gdf.area"
      ],
      "metadata": {
        "id": "R7rNDTRLmj_J"
      },
      "execution_count": null,
      "outputs": []
    },
    {
      "cell_type": "code",
      "source": [
        "gdf.distance(rectoria)"
      ],
      "metadata": {
        "id": "QmarEnEYW7BH"
      },
      "execution_count": null,
      "outputs": []
    },
    {
      "cell_type": "markdown",
      "source": [
        "🔴 Regresa y observa los **warnings**.\n",
        "\n",
        "Estos resultados están dados en grados, ya que el sistema de referencia de coordenadas que definimos cuando se creó el GDF es uno geográfico, por lo tanto no nos sirve para realizar mediciones como distancias, áreas, etc.\n",
        "\n",
        "Vamos a reproyectar, utilizando un sistema de referencia de coordenadas proyectado:"
      ],
      "metadata": {
        "id": "-DF6AT-WaWyJ"
      }
    },
    {
      "cell_type": "code",
      "source": [
        "# Reproyectamos y guardamos en un nuevo GDF\n",
        "gdf_metros = gdf.to_crs(epsg=32612)  # WGS 84 / Zona UTM 12N"
      ],
      "metadata": {
        "id": "6k-ZVuYVXDuQ"
      },
      "execution_count": null,
      "outputs": []
    },
    {
      "cell_type": "code",
      "source": [
        "# Redefinimos el punto de referencia, ahora con un CRS en metros\n",
        "rectoria_metros = gdf_metros['geometry'][0]\n",
        "\n",
        "# Calculamos la distancia\n",
        "gdf_metros['dist_rectoria_m'] = gdf_metros.distance(rectoria_metros)\n",
        "\n",
        "# Calculamos el área\n",
        "gdf_metros['area_m2'] = gdf_metros.area\n",
        "\n",
        "gdf_metros"
      ],
      "metadata": {
        "id": "a4FQIzWUNYiT"
      },
      "execution_count": null,
      "outputs": []
    },
    {
      "cell_type": "code",
      "source": [
        "gdf_metros.explore()"
      ],
      "metadata": {
        "id": "KpuPwymmU_5S"
      },
      "execution_count": null,
      "outputs": []
    },
    {
      "cell_type": "markdown",
      "source": [
        "## Tarea 3\n",
        "\n",
        "1.\tCrea 3 puntos dentro de la ciudad de Hermosillo para ubicar escuelas y agrega campos como nombre(Texto), nivel(Texto – primaria, secundaria, etc).\n",
        "2.\tCrea una línea para identificar una ruta para bicis. Agrega campos como nombre, long_m (usa el método length() para calcularla).\n",
        "3.\tCrea 3 polígonos para identificar parques. Agrega campos como nombre, uso, calcula el area_m2 y la distancia a Rectoría (o algún otro punto de referencia de tu interés).\n",
        "4. Exportar como SHP y GeoPackage.\n"
      ],
      "metadata": {
        "id": "BPljMK5kj7YY"
      }
    },
    {
      "cell_type": "code",
      "execution_count": null,
      "metadata": {
        "id": "hTFfPFb0SfHm"
      },
      "outputs": [],
      "source": []
    }
  ],
  "metadata": {
    "colab": {
      "provenance": [],
      "include_colab_link": true
    },
    "kernelspec": {
      "display_name": "Python 3",
      "language": "python",
      "name": "python3"
    },
    "language_info": {
      "name": "python"
    }
  },
  "nbformat": 4,
  "nbformat_minor": 0
}